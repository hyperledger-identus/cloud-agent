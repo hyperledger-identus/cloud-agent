{
 "cells": [
  {
   "cell_type": "code",
   "execution_count": 1,
   "metadata": {},
   "outputs": [],
   "source": [
    "import json\n",
    "import base64\n",
    "import qrcode\n",
    "import requests\n",
    "import datetime\n",
    "import uuid\n",
    "import matplotlib.pyplot as plt\n",
    "from pymongo import MongoClient\n",
    "from typing import Optional, List\n",
    "from didcomm.common.types import DID, VerificationMethodType, VerificationMaterial, VerificationMaterialFormat\n",
    "from didcomm.did_doc.did_doc import DIDDoc, VerificationMethod, DIDCommService\n",
    "from didcomm.did_doc.did_resolver import DIDResolver\n",
    "from didcomm.message import Message, FromPrior\n",
    "from didcomm.secrets.secrets_resolver_demo import SecretsResolverDemo\n",
    "from didcomm.unpack import unpack, UnpackResult\n",
    "from didcomm.common.resolvers import ResolversConfig\n",
    "from didcomm.pack_encrypted import pack_encrypted, PackEncryptedConfig, PackEncryptedResult\n",
    "from peerdid.core.did_doc_types import DIDCommServicePeerDID\n",
    "from didcomm.secrets.secrets_util import generate_x25519_keys_as_jwk_dict, generate_ed25519_keys_as_jwk_dict, jwk_to_secret\n",
    "from peerdid import peer_did\n",
    "from peerdid.did_doc import DIDDocPeerDID\n",
    "from peerdid.types import VerificationMaterialAuthentication, VerificationMethodTypeAuthentication, VerificationMaterialAgreement, VerificationMethodTypeAgreement, VerificationMaterialFormatPeerDID"
   ]
  },
  {
   "cell_type": "code",
   "execution_count": 2,
   "metadata": {},
   "outputs": [],
   "source": [
    "secrets_resolver = SecretsResolverDemo()"
   ]
  },
  {
   "cell_type": "code",
   "execution_count": 3,
   "metadata": {},
   "outputs": [],
   "source": [
    "class DIDResolverPeerDID(DIDResolver):\n",
    "    async def resolve(self, did: DID) -> DIDDoc:\n",
    "        did_doc_json = peer_did.resolve_peer_did(did, format = VerificationMaterialFormatPeerDID.JWK)\n",
    "        did_doc = DIDDocPeerDID.from_json(did_doc_json)\n",
    "\n",
    "        return DIDDoc(\n",
    "            did=did_doc.did,\n",
    "            key_agreement_kids = did_doc.agreement_kids,\n",
    "            authentication_kids = did_doc.auth_kids,\n",
    "            verification_methods = [\n",
    "                VerificationMethod(\n",
    "                    id = m.id,\n",
    "                    type = VerificationMethodType.JSON_WEB_KEY_2020,\n",
    "                    controller = m.controller,\n",
    "                    verification_material = VerificationMaterial(\n",
    "                        format = VerificationMaterialFormat.JWK,\n",
    "                        value = json.dumps(m.ver_material.value)\n",
    "                    )\n",
    "                )\n",
    "                for m in did_doc.authentication + did_doc.key_agreement\n",
    "            ],\n",
    "            didcomm_services = [\n",
    "                DIDCommService(\n",
    "                    id = s.id,\n",
    "                    service_endpoint = s.service_endpoint,\n",
    "                    routing_keys = s.routing_keys,\n",
    "                    accept = s.accept\n",
    "                )\n",
    "                for s in did_doc.service\n",
    "                if isinstance(s, DIDCommServicePeerDID)\n",
    "            ] if did_doc.service else []\n",
    "        )"
   ]
  },
  {
   "cell_type": "code",
   "execution_count": 4,
   "metadata": {},
   "outputs": [],
   "source": [
    "async def create_peer_did(self,\n",
    "                        auth_keys_count: int = 1,\n",
    "                        agreement_keys_count: int = 1,\n",
    "                        service_endpoint: Optional[str] = None,\n",
    "                        service_routing_keys: Optional[List[str]] = None\n",
    "                        ) -> str:\n",
    "        # 1. generate keys in JWK format\n",
    "        agreem_keys = [generate_x25519_keys_as_jwk_dict() for _ in range(agreement_keys_count)]\n",
    "        auth_keys = [generate_ed25519_keys_as_jwk_dict() for _ in range(auth_keys_count)]\n",
    "\n",
    "        # 2. prepare the keys for peer DID lib\n",
    "        agreem_keys_peer_did = [\n",
    "            VerificationMaterialAgreement(\n",
    "                type=VerificationMethodTypeAgreement.JSON_WEB_KEY_2020,\n",
    "                format=VerificationMaterialFormatPeerDID.JWK,\n",
    "                value=k[1],\n",
    "            )\n",
    "            for k in agreem_keys\n",
    "        ]\n",
    "        auth_keys_peer_did = [\n",
    "            VerificationMaterialAuthentication(\n",
    "                type=VerificationMethodTypeAuthentication.JSON_WEB_KEY_2020,\n",
    "                format=VerificationMaterialFormatPeerDID.JWK,\n",
    "                value=k[1],\n",
    "            )\n",
    "            for k in auth_keys\n",
    "        ]\n",
    "\n",
    "        # 3. generate service\n",
    "        service = None\n",
    "        if service_endpoint:\n",
    "            service = json.dumps(\n",
    "                DIDCommServicePeerDID(\n",
    "                    id=\"new-id\",\n",
    "                    service_endpoint=service_endpoint, routing_keys=service_routing_keys,\n",
    "                    accept=[\"didcomm/v2\"]\n",
    "                ).to_dict()\n",
    "            )\n",
    "\n",
    "        # 4. call peer DID lib\n",
    "        # if we have just one key (auth), then use numalg0 algorithm\n",
    "        # otherwise use numalg2 algorithm\n",
    "        if len(auth_keys_peer_did) == 1 and not agreem_keys_peer_did and not service:\n",
    "            did = peer_did.create_peer_did_numalgo_0(auth_keys_peer_did[0])\n",
    "        else:\n",
    "            did = peer_did.create_peer_did_numalgo_2(\n",
    "                encryption_keys=agreem_keys_peer_did,\n",
    "                signing_keys=auth_keys_peer_did,\n",
    "                service=service,\n",
    "            )\n",
    "\n",
    "        # 5. set KIDs as in DID DOC for secrets and store the secret in the secrets resolver\n",
    "        did_doc = DIDDocPeerDID.from_json(peer_did.resolve_peer_did(did))\n",
    "        for auth_key, kid in zip(auth_keys, did_doc.auth_kids):\n",
    "            private_key = auth_key[0]\n",
    "            private_key[\"kid\"] = kid\n",
    "            print(private_key)\n",
    "            await secrets_resolver.add_key(jwk_to_secret(private_key))\n",
    "\n",
    "        for agreem_key, kid in zip(agreem_keys, did_doc.agreement_kids):\n",
    "            private_key = agreem_key[0]\n",
    "            private_key[\"kid\"] = kid\n",
    "            print(private_key)\n",
    "            await secrets_resolver.add_key(jwk_to_secret(private_key))\n",
    "\n",
    "        return did\n"
   ]
  },
  {
   "cell_type": "markdown",
   "metadata": {},
   "source": [
    "### Alice get OOB from Mediator"
   ]
  },
  {
   "cell_type": "code",
   "execution_count": 5,
   "metadata": {},
   "outputs": [],
   "source": [
    "oob_url = requests.get(\"http://rootsid-mediator:8000/oob_url\").text\n",
    "#oob_url = requests.get(\"http://127.0.0.1:8000/oob_url\").text\n",
    "#oob_url = requests.get(\"https://mediator.rootsid.cloud/oob_url\").text"
   ]
  },
  {
   "cell_type": "code",
   "execution_count": 6,
   "metadata": {},
   "outputs": [
    {
     "name": "stdout",
     "output_type": "stream",
     "text": [
      "http://rootsid-mediator:8000?_oob=eyJ0eXBlIjoiaHR0cHM6Ly9kaWRjb21tLm9yZy9vdXQtb2YtYmFuZC8yLjAvaW52aXRhdGlvbiIsImlkIjoiYjFkN2Y0OWYtYzUyMS00NDk0LTg3MzQtYzAwZDhmY2M2NGFlIiwiZnJvbSI6ImRpZDpwZWVyOjIuRXo2TFNmdVlvZUU4QXJvclJuVkVIRzZnMVRVYjlZNjZLZkczNVdYcmdEbnJmWGtkVi5WejZNa3ZaVlp3SzlSVGtuTThEN0JKM0Q3aVphdTNBSFlKV0M2a1VLcWtvZEtobVdYLlNleUpwWkNJNkltNWxkeTFwWkNJc0luUWlPaUprYlNJc0luTWlPaUpvZEhSd09pOHZjbTl2ZEhOcFpDMXRaV1JwWVhSdmNqbzRNREF3SWl3aVlTSTZXeUprYVdSamIyMXRMM1l5SWwxOSIsImJvZHkiOnsiZ29hbF9jb2RlIjoicmVxdWVzdC1tZWRpYXRlIiwiZ29hbCI6IlJlcXVlc3RNZWRpYXRlIiwiYWNjZXB0IjpbImRpZGNvbW0vdjIiLCJkaWRjb21tL2FpcDI7ZW52PXJmYzU4NyJdfX0\n"
     ]
    }
   ],
   "source": [
    "print(oob_url)"
   ]
  },
  {
   "cell_type": "code",
   "execution_count": 7,
   "metadata": {},
   "outputs": [
    {
     "name": "stdout",
     "output_type": "stream",
     "text": [
      "{'crv': 'Ed25519', 'x': 'ahRGFauYqLNRt713YmCqkTuwIj6o15WJfmwC6wXmGZQ', 'd': 'bQfbuHb9By5CUSToXBh_2n2-4-8v9nVFtWixtib_jaE', 'kty': 'OKP', 'kid': 'did:peer:2.Ez6LSi6SDgieS8H7FC3UREj2H1iYVCL7S9M8iTCPEmoGtiutJ.Vz6MkmbMC51u4xFNabEXoB32LP9aqJt6f39A3mmmqwuQYMhVm#6MkmbMC51u4xFNabEXoB32LP9aqJt6f39A3mmmqwuQYMhVm'}\n",
      "{'crv': 'X25519', 'x': 'X10VSyUGc2y_uGQU1PZPglsQZD4l73-TBCG11eSxSGc', 'd': 'sP7MbcTnExW9NW9ucc_A7GJ41-shNo2zzAW9PTFonlk', 'kty': 'OKP', 'kid': 'did:peer:2.Ez6LSi6SDgieS8H7FC3UREj2H1iYVCL7S9M8iTCPEmoGtiutJ.Vz6MkmbMC51u4xFNabEXoB32LP9aqJt6f39A3mmmqwuQYMhVm#6LSi6SDgieS8H7FC3UREj2H1iYVCL7S9M8iTCPEmoGtiutJ'}\n",
      "Alice's DID: did:peer:2.Ez6LSi6SDgieS8H7FC3UREj2H1iYVCL7S9M8iTCPEmoGtiutJ.Vz6MkmbMC51u4xFNabEXoB32LP9aqJt6f39A3mmmqwuQYMhVm\n"
     ]
    }
   ],
   "source": [
    "received_msg_encoded = oob_url.split(\"=\")[1]\n",
    "received_msg_decoded = json.loads(str(base64.urlsafe_b64decode(received_msg_encoded + \"==\"), \"utf-8\"))\n",
    "alice_did_for_mediator = await create_peer_did(1,1)\n",
    "print(\"Alice's DID:\", alice_did_for_mediator)"
   ]
  },
  {
   "cell_type": "markdown",
   "metadata": {},
   "source": [
    "### Alice request mediate"
   ]
  },
  {
   "cell_type": "code",
   "execution_count": 8,
   "metadata": {},
   "outputs": [],
   "source": [
    "alice_mediate_grant = Message(\n",
    "    custom_headers = [{\"return_route\": \"all\"}],\n",
    "    id = str(uuid.uuid4()),\n",
    "    type = \"https://didcomm.org/coordinate-mediation/2.0/mediate-request\",\n",
    "    body = {}\n",
    ")"
   ]
  },
  {
   "cell_type": "code",
   "execution_count": 9,
   "metadata": {},
   "outputs": [
    {
     "name": "stdout",
     "output_type": "stream",
     "text": [
      "PackEncryptedResult(packed_msg='{\"protected\":\"eyJ0eXAiOiJhcHBsaWNhdGlvbi9kaWRjb21tLWVuY3J5cHRlZCtqc29uIiwiYWxnIjoiRUNESC0xUFUrQTI1NktXIiwiZW5jIjoiQTI1NkNCQy1IUzUxMiIsImFwdSI6IlpHbGtPbkJsWlhJNk1pNUZlalpNVTJrMlUwUm5hV1ZUT0VnM1JrTXpWVkpGYWpKSU1XbFpWa05NTjFNNVRUaHBWRU5RUlcxdlIzUnBkWFJLTGxaNk5rMXJiV0pOUXpVeGRUUjRSazVoWWtWWWIwSXpNa3hRT1dGeFNuUTJaak01UVROdGJXMXhkM1ZSV1Uxb1ZtMGpOa3hUYVRaVFJHZHBaVk00U0RkR1F6TlZVa1ZxTWtneGFWbFdRMHczVXpsTk9HbFVRMUJGYlc5SGRHbDFkRW8iLCJhcHYiOiJUVTRLbXh3eDB3RWxBb0pac21FMG1HZ05GWkI5LVFfWDJCdG1RQzdtRllRIiwic2tpZCI6ImRpZDpwZWVyOjIuRXo2TFNpNlNEZ2llUzhIN0ZDM1VSRWoySDFpWVZDTDdTOU04aVRDUEVtb0d0aXV0Si5WejZNa21iTUM1MXU0eEZOYWJFWG9CMzJMUDlhcUp0NmYzOUEzbW1tcXd1UVlNaFZtIzZMU2k2U0RnaWVTOEg3RkMzVVJFajJIMWlZVkNMN1M5TThpVENQRW1vR3RpdXRKIiwiZXBrIjp7ImNydiI6IlgyNTUxOSIsIngiOiJ1QjJfQWRCTWZSSjEzR2R5Z0lFUmFUYVU2SGh5SFBFRF94ZDlEWnlsYkI0Iiwia3R5IjoiT0tQIn19\",\"recipients\":[{\"header\":{\"kid\":\"did:peer:2.Ez6LSfuYoeE8ArorRnVEHG6g1TUb9Y66KfG35WXrgDnrfXkdV.Vz6MkvZVZwK9RTknM8D7BJ3D7iZau3AHYJWC6kUKqkodKhmWX.SeyJpZCI6Im5ldy1pZCIsInQiOiJkbSIsInMiOiJodHRwOi8vcm9vdHNpZC1tZWRpYXRvcjo4MDAwIiwiYSI6WyJkaWRjb21tL3YyIl19#6LSfuYoeE8ArorRnVEHG6g1TUb9Y66KfG35WXrgDnrfXkdV\"},\"encrypted_key\":\"aeWrV-8Bcn1eULHu6LsTAtAlJpxqucew1nsY07DhL2-OpUMtaLsNu2Q4l9hDccEOterU0Ofwgvfr0jJDDD4XAvxEoJT8rv5o\"}],\"iv\":\"HlLWUj9lUvYeg0wrF6bn_A\",\"ciphertext\":\"H8J-NB7f2dmws8ilS_A9fYmo3ZL655SSobYLjEBhGKn2JLWoNZyc6E9dug9GtG-0YTUauEE2YU-oxLHRcerN2TJQiGRNgck5z1WEOriMdubTKV_koQEqvdl-bu2VpxWBpVHlGNKlpIX2fQgXkSeSP_piNvr2QPusA6_N6LsKXBdBpWwx46kSGHSWtOUjU3aoQm1fA74jWvXsEQl3NArVNFuAQWsl86sOALfPLr4M2ikGEjacOWMSdCkvw6GjXQGorOLxZSdsPhCYTdzvP4oIXw\",\"tag\":\"nXDYAIeIiSC6-pUWSzP0PaEXmZsG4eOIGLCn2N3BBdo\"}', to_kids=['did:peer:2.Ez6LSfuYoeE8ArorRnVEHG6g1TUb9Y66KfG35WXrgDnrfXkdV.Vz6MkvZVZwK9RTknM8D7BJ3D7iZau3AHYJWC6kUKqkodKhmWX.SeyJpZCI6Im5ldy1pZCIsInQiOiJkbSIsInMiOiJodHRwOi8vcm9vdHNpZC1tZWRpYXRvcjo4MDAwIiwiYSI6WyJkaWRjb21tL3YyIl19#6LSfuYoeE8ArorRnVEHG6g1TUb9Y66KfG35WXrgDnrfXkdV'], from_kid='did:peer:2.Ez6LSi6SDgieS8H7FC3UREj2H1iYVCL7S9M8iTCPEmoGtiutJ.Vz6MkmbMC51u4xFNabEXoB32LP9aqJt6f39A3mmmqwuQYMhVm#6LSi6SDgieS8H7FC3UREj2H1iYVCL7S9M8iTCPEmoGtiutJ', sign_from_kid=None, from_prior_issuer_kid=None, service_metadata=ServiceMetadata(id='did:peer:2.Ez6LSfuYoeE8ArorRnVEHG6g1TUb9Y66KfG35WXrgDnrfXkdV.Vz6MkvZVZwK9RTknM8D7BJ3D7iZau3AHYJWC6kUKqkodKhmWX.SeyJpZCI6Im5ldy1pZCIsInQiOiJkbSIsInMiOiJodHRwOi8vcm9vdHNpZC1tZWRpYXRvcjo4MDAwIiwiYSI6WyJkaWRjb21tL3YyIl19#didcommmessaging-0', service_endpoint='http://rootsid-mediator:8000'))\n"
     ]
    }
   ],
   "source": [
    "alice_mediate_grant_packed = await pack_encrypted(\n",
    "    resolvers_config = ResolversConfig(\n",
    "        secrets_resolver = secrets_resolver,\n",
    "        did_resolver = DIDResolverPeerDID()\n",
    "    ),\n",
    "    message = alice_mediate_grant,\n",
    "    frm = alice_did_for_mediator,\n",
    "    to = received_msg_decoded[\"from\"],\n",
    "    sign_frm = None,\n",
    "    pack_config = PackEncryptedConfig(protect_sender_id=False)\n",
    ")\n",
    "print(alice_mediate_grant_packed)"
   ]
  },
  {
   "cell_type": "markdown",
   "metadata": {},
   "source": [
    "### Sending to Mediator"
   ]
  },
  {
   "cell_type": "code",
   "execution_count": 10,
   "metadata": {},
   "outputs": [
    {
     "name": "stdout",
     "output_type": "stream",
     "text": [
      "{'id': 'did:peer:2.Ez6LSfuYoeE8ArorRnVEHG6g1TUb9Y66KfG35WXrgDnrfXkdV.Vz6MkvZVZwK9RTknM8D7BJ3D7iZau3AHYJWC6kUKqkodKhmWX.SeyJpZCI6Im5ldy1pZCIsInQiOiJkbSIsInMiOiJodHRwOi8vcm9vdHNpZC1tZWRpYXRvcjo4MDAwIiwiYSI6WyJkaWRjb21tL3YyIl19', 'authentication': [{'id': 'did:peer:2.Ez6LSfuYoeE8ArorRnVEHG6g1TUb9Y66KfG35WXrgDnrfXkdV.Vz6MkvZVZwK9RTknM8D7BJ3D7iZau3AHYJWC6kUKqkodKhmWX.SeyJpZCI6Im5ldy1pZCIsInQiOiJkbSIsInMiOiJodHRwOi8vcm9vdHNpZC1tZWRpYXRvcjo4MDAwIiwiYSI6WyJkaWRjb21tL3YyIl19#6MkvZVZwK9RTknM8D7BJ3D7iZau3AHYJWC6kUKqkodKhmWX', 'type': 'Ed25519VerificationKey2020', 'controller': 'did:peer:2.Ez6LSfuYoeE8ArorRnVEHG6g1TUb9Y66KfG35WXrgDnrfXkdV.Vz6MkvZVZwK9RTknM8D7BJ3D7iZau3AHYJWC6kUKqkodKhmWX.SeyJpZCI6Im5ldy1pZCIsInQiOiJkbSIsInMiOiJodHRwOi8vcm9vdHNpZC1tZWRpYXRvcjo4MDAwIiwiYSI6WyJkaWRjb21tL3YyIl19', 'publicKeyMultibase': 'z6MkvZVZwK9RTknM8D7BJ3D7iZau3AHYJWC6kUKqkodKhmWX'}], 'keyAgreement': [{'id': 'did:peer:2.Ez6LSfuYoeE8ArorRnVEHG6g1TUb9Y66KfG35WXrgDnrfXkdV.Vz6MkvZVZwK9RTknM8D7BJ3D7iZau3AHYJWC6kUKqkodKhmWX.SeyJpZCI6Im5ldy1pZCIsInQiOiJkbSIsInMiOiJodHRwOi8vcm9vdHNpZC1tZWRpYXRvcjo4MDAwIiwiYSI6WyJkaWRjb21tL3YyIl19#6LSfuYoeE8ArorRnVEHG6g1TUb9Y66KfG35WXrgDnrfXkdV', 'type': 'X25519KeyAgreementKey2020', 'controller': 'did:peer:2.Ez6LSfuYoeE8ArorRnVEHG6g1TUb9Y66KfG35WXrgDnrfXkdV.Vz6MkvZVZwK9RTknM8D7BJ3D7iZau3AHYJWC6kUKqkodKhmWX.SeyJpZCI6Im5ldy1pZCIsInQiOiJkbSIsInMiOiJodHRwOi8vcm9vdHNpZC1tZWRpYXRvcjo4MDAwIiwiYSI6WyJkaWRjb21tL3YyIl19', 'publicKeyMultibase': 'z6LSfuYoeE8ArorRnVEHG6g1TUb9Y66KfG35WXrgDnrfXkdV'}], 'service': [{'id': 'did:peer:2.Ez6LSfuYoeE8ArorRnVEHG6g1TUb9Y66KfG35WXrgDnrfXkdV.Vz6MkvZVZwK9RTknM8D7BJ3D7iZau3AHYJWC6kUKqkodKhmWX.SeyJpZCI6Im5ldy1pZCIsInQiOiJkbSIsInMiOiJodHRwOi8vcm9vdHNpZC1tZWRpYXRvcjo4MDAwIiwiYSI6WyJkaWRjb21tL3YyIl19#didcommmessaging-0', 'type': 'DIDCommMessaging', 'serviceEndpoint': 'http://rootsid-mediator:8000', 'accept': ['didcomm/v2']}]}\n",
      "http://rootsid-mediator:8000\n"
     ]
    }
   ],
   "source": [
    "mediator_did_doc = json.loads(peer_did.resolve_peer_did(received_msg_decoded[\"from\"]))\n",
    "mediator_endpoint = mediator_did_doc[\"service\"][0][\"serviceEndpoint\"]\n",
    "print(mediator_did_doc)\n",
    "print(mediator_endpoint)"
   ]
  },
  {
   "cell_type": "code",
   "execution_count": 11,
   "metadata": {},
   "outputs": [],
   "source": [
    "headers = {\"Content-Type\": \"application/didcomm-encrypted+json\"}\n",
    "resp = requests.post(mediator_endpoint, headers=headers, data = alice_mediate_grant_packed.packed_msg)\n"
   ]
  },
  {
   "cell_type": "code",
   "execution_count": 12,
   "metadata": {},
   "outputs": [
    {
     "name": "stdout",
     "output_type": "stream",
     "text": [
      "{\"protected\":\"eyJ0eXAiOiJhcHBsaWNhdGlvbi9kaWRjb21tLWVuY3J5cHRlZCtqc29uIiwiYWxnIjoiRUNESC0xUFUrQTI1NktXIiwiZW5jIjoiQTI1NkNCQy1IUzUxMiIsImFwdSI6IlpHbGtPbkJsWlhJNk1pNUZlalpNVTI4M2JubG1kMWt6YlRkM1UxRjJRekZOTTFVMU5sUm9kbXBaYURVMFlrdEtUVU5ZYVhONlRuZEhNMlp0TGxaNk5rMXJiMDVaYWpGMGQyTlZaSFJJWWs1RFV6WlpjMUprZEZGdVZYWnBXbFkwVVVoRFFXNXJla3BLTW1seFZVTXVVMlY1U25CYVEwazJTVzAxYkdSNU1YQmFRMGx6U1c1UmFVOXBTbXRpVTBselNXNU5hVTlwU205a1NGSjNUMms0ZG1OdE9YWmtTRTV3V2tNeGRGcFhVbkJaV0ZKMlkycHZORTFFUVhkSmFYZHBXVk5KTmxkNVNtdGhWMUpxWWpJeGRFd3pXWGxKYkRFNUl6Wk1VMjgzYm5sbWQxa3piVGQzVTFGMlF6Rk5NMVUxTmxSb2RtcFphRFUwWWt0S1RVTllhWE42VG5kSE0yWnQiLCJhcHYiOiJpWlpVYklVZ25fWVlCeFlxNHdxaXR5N0s0aVZWVFJwUjZvaC1BSEEteFVNIiwic2tpZCI6ImRpZDpwZWVyOjIuRXo2TFNvN255ZndZM203d1NRdkMxTTNVNTZUaHZqWWg1NGJLSk1DWGlzek53RzNmbS5WejZNa29OWWoxdHdjVWR0SGJOQ1M2WXNSZHRRblV2aVpWNFFIQ0Fua3pKSjJpcVVDLlNleUpwWkNJNkltNWxkeTFwWkNJc0luUWlPaUprYlNJc0luTWlPaUpvZEhSd09pOHZjbTl2ZEhOcFpDMXRaV1JwWVhSdmNqbzRNREF3SWl3aVlTSTZXeUprYVdSamIyMXRMM1l5SWwxOSM2TFNvN255ZndZM203d1NRdkMxTTNVNTZUaHZqWWg1NGJLSk1DWGlzek53RzNmbSIsImVwayI6eyJjcnYiOiJYMjU1MTkiLCJ4IjoiYVZjaWtzaEpWR3VjX09rdkFBako4X2dVMllhRnl2TUhNTEYwRVNRallXdyIsImt0eSI6Ik9LUCJ9fQ\",\"recipients\":[{\"header\":{\"kid\":\"did:peer:2.Ez6LSi6SDgieS8H7FC3UREj2H1iYVCL7S9M8iTCPEmoGtiutJ.Vz6MkmbMC51u4xFNabEXoB32LP9aqJt6f39A3mmmqwuQYMhVm#6LSi6SDgieS8H7FC3UREj2H1iYVCL7S9M8iTCPEmoGtiutJ\"},\"encrypted_key\":\"ToAtopK3nJ6qDF4a4toVw10fP3kfTHtCx6jRWH3wqVNayBbIGV5P75Cb6WAMgcjfudwYOjJI_mW_vmLcTIVuKEtRJh4hWUlK\"}],\"iv\":\"a_ZKxTw5CjmCJuwWBuWQ8w\",\"ciphertext\":\"y3JWYjiBC3ApAEa14gn97UZbwEwyf2DpDkA8i1IpCfzRAXatAGkkpPsOGUOM2W-xw0WBnUvctAQhqEn0yrkTFhXQ_-FTgcfLn1Xgf4BFOfLjToJXxAxw1_sziU86nzqnnTic8VqyOr-L2DLILypNaRsb2Nd-HBwJeYSMVvRbwaqFMLyeNq5rMlNOG-OKOPI8WJeWXOEQL3an90SAUlELn9c8X6zJIJEn4FIyiprBvGVAe-jlYfe9XC5-Zk4j5kSbcxbVaMd92_F2XmxDKfDkpf7CZCrcB-q0FWFE7jF4WuJzDr_EKqOXamttaIyW9a4ZaaBZjx68uAG6GDFMAQ8eAn1iVEXWzC13FiBK34oHiLq3r5MaYPWR8BHjt8Nuri2bchSpyvc4aeQxaKNLcuzAVXlfyrUI0Z8DwAlwsg-rfTDNjqxZjGOactAPREo3Yt0tm6nI32wOAEPWZ1D_ICS9l2hMjp7Qf2_iHow60-3bWI0Zw4zPiRQlYwIg108xnbEdw85i1HVZwCViAXze5W16ujKjVLqbP2Bl-lAGsJgn16xZNNC7ssqk5FBDfpRQO_oxKAz_lXm94TaaMHAdW6sTCGxBPjmOkWm2s_RpFCHD4zBQ4qjG6_YroG1IELHCG6uyQJvP1ja4N1uWfE725rDKu64NPmFB1OSBkxGs36TXvXbk-W7S1GfvS_IWy2FxzdTrhIELUhlYGHUiYVxt1_kpH4CHXLHnw7vCbZcCj_s9PhPZjfzuNMmKPis1dKZ2toWfHmPNRbRJgfvm57RTeS2Du69AbWTdrv7-dMyVGyApKdpOB2ze2BwVdwOF_-UQ022QlrhEqOXT5YexKpoHs1XC_uzMSXOnltT3ruDVQDiW-hi_qBSDKcpbmP3cv0Ph2VOd2z9RfIy8cMzDLUtNgTumTW1nUo9wRq7GfssHGp5QCuBoDpr_jHEzeOEcB0AftfO1rFJe8NWs72H1ZNqlxaSYUJUN1n6zqTPGm4TRHOIpG4MbR4pqm8PXp2jB2H81kyfqIvjyblN0lrjrV8_X252cm_Bx8pPbCWf1rm7XnpkdD9QLukl4VhqihNvWsbI23sZP7OaAYkAvgefXW8cSb_nXf0yCY0T9zfzM8fXyGLU8KTA4us_fzfup416GS4s-p7Ag00nadQLowoSW2SfDWBgi1BUKY2cnZqbkRNZjEcw3QttJjpa5CwPm_os47VdphHAgKPGg9z46sHCTSuupYDgmUzXj7JAgtPagO8B3xr80P46GcdliykUoj6a7NdhAeaUpBD7SHY_uPA2vYQ_3DRc5y86TZ_dYARGnOH5ccJZ6ty-Zv4xBD8dhuI-VCwcI73FD4-zp1ac7FcRSKEbPsmSnadz3T2qiRcHuU3KH-R8vILV3z4gIiAW1o5bHnd5xSQV3wOxOFdE7K8FiqKGdTEsHi2mki0mb_y_5x5caFe7sK1-zWQhp_XsnmxKURxAbYss2HEf-lNDqMHwZdtY8ajn6zXy4cBdn8HbI4HjIqSo3bnA0FrIyo-8PwqcLvBZoY1PEer_WIN6RG7xiyNF0zPl23aX3Tk8sJCeZjAygIjWYEW5HLplpQnAKSLGfEXaZk1fW8_BvAEHt-UERt-SSRN8ExhLoZUk_8YfZ8HXXFI-jIg20a6sPWrUVN48sU9wmVURu4zXhFC3iIdhv2LFnYsQ_r_Y49zrnmWoD9TK4imaCGAZljNq6vL1sIbNOksmf9YnwLXkf0_HMvLy3sAYatf7972I0kGrLHw9BDp0Vn7adji5McJu_XAo3eNww0BdIgHc9jHqD5diUaZkPaFGARFCNY6YGGjIAgrbP_HGUYr0gppcoQg2O__rlbXRJVBS29z57NCCYCOurZvgsIfXQJ41j59Jx6Ya0DrsAp9igpSHNVzW7eMYvPTCSxNKX21Wdv6kf62GaOCBohYgGMqE_fi0pgSxoH4x0LKDqQ5zuf2E94cdy_7VmVgpzUSSSZFZfQYrjFE5EPzU8xj7eNgbyHpAoNg\",\"tag\":\"1MQCtvVbytfnNjg5MXAul6TFG1d2pTtsi3D8HxXPTHg\"}\n"
     ]
    }
   ],
   "source": [
    "print(resp.json())"
   ]
  },
  {
   "cell_type": "markdown",
   "metadata": {},
   "source": [
    "### Get mediator grant response"
   ]
  },
  {
   "cell_type": "code",
   "execution_count": 13,
   "metadata": {},
   "outputs": [
    {
     "name": "stdout",
     "output_type": "stream",
     "text": [
      "https://didcomm.org/coordinate-mediation/2.0/mediate-grant\n",
      "Routing Key: did:peer:2.Ez6LSh86cZe85p4LLsNc28nAp9rtLvg2tdS7KA9cYcB9DpnNY.Vz6Mknau6GqSR279G1akj6imwmXGqxLk5sskPZcnnT83ym1Wa.SeyJpZCI6Im5ldy1pZCIsInQiOiJkbSIsInMiOiJodHRwOi8vcm9vdHNpZC1tZWRpYXRvcjo4MDAwIiwiYSI6WyJkaWRjb21tL3YyIl19\n",
      "Mediator new DID: did:peer:2.Ez6LSo7nyfwY3m7wSQvC1M3U56ThvjYh54bKJMCXiszNwG3fm.Vz6MkoNYj1twcUdtHbNCS6YsRdtQnUviZV4QHCAnkzJJ2iqUC.SeyJpZCI6Im5ldy1pZCIsInQiOiJkbSIsInMiOiJodHRwOi8vcm9vdHNpZC1tZWRpYXRvcjo4MDAwIiwiYSI6WyJkaWRjb21tL3YyIl19\n"
     ]
    }
   ],
   "source": [
    "mediator_unpack_msg = await unpack(\n",
    "    resolvers_config=ResolversConfig(\n",
    "        secrets_resolver=secrets_resolver,\n",
    "        did_resolver=DIDResolverPeerDID()\n",
    "    ),\n",
    "    packed_msg= resp.json()\n",
    ")\n",
    "print(mediator_unpack_msg.message.type)\n",
    "print(\"Routing Key: \" + mediator_unpack_msg.message.body[\"routing_did\"])\n",
    "print(\"Mediator new DID: \" + mediator_unpack_msg.message.from_prior.sub)\n",
    "# mediator rotated did\n",
    "mediator_routing_key = mediator_unpack_msg.message.body[\"routing_did\"]\n",
    "mediator_did = mediator_unpack_msg.message.from_prior.sub"
   ]
  },
  {
   "cell_type": "markdown",
   "metadata": {},
   "source": [
    "### Keylist update"
   ]
  },
  {
   "cell_type": "markdown",
   "metadata": {},
   "source": [
    "Alice create a new DID to share with  other peers using mediator routing keys "
   ]
  },
  {
   "cell_type": "code",
   "execution_count": 14,
   "metadata": {},
   "outputs": [
    {
     "name": "stdout",
     "output_type": "stream",
     "text": [
      "{'crv': 'Ed25519', 'x': 'VbWFIhfT1aUvzxVcZJlGm40KZ7iw3swu2BfKUiS32Q0', 'd': 'fjpPxHmNxBCYOj2Mbi8Zdqw4HKCxaNBXcINIfQNrlhs', 'kty': 'OKP', 'kid': 'did:peer:2.Ez6LSqrUDvHgg8WbUH2gRfgGdNNhABreeuCYmBRTjMDe1AmVL.Vz6MkkDqEhfa7BUpaKsHM4Cph7YnjndRZfLJdqMtixA4jUV3r.SeyJpZCI6Im5ldy1pZCIsInQiOiJkbSIsInMiOlt7InVyaSI6ImRpZDpwZWVyOjIuRXo2TFNoODZjWmU4NXA0TExzTmMyOG5BcDlydEx2ZzJ0ZFM3S0E5Y1ljQjlEcG5OWS5WejZNa25hdTZHcVNSMjc5RzFha2o2aW13bVhHcXhMazVzc2tQWmNublQ4M3ltMVdhLlNleUpwWkNJNkltNWxkeTFwWkNJc0luUWlPaUprYlNJc0luTWlPaUpvZEhSd09pOHZjbTl2ZEhOcFpDMXRaV1JwWVhSdmNqbzRNREF3SWl3aVlTSTZXeUprYVdSamIyMXRMM1l5SWwxOSJ9XSwiYSI6WyJkaWRjb21tL3YyIl19#6MkkDqEhfa7BUpaKsHM4Cph7YnjndRZfLJdqMtixA4jUV3r'}\n",
      "{'crv': 'X25519', 'x': '0qa2ljtJpd5hOoV-1TP9NUrQJdeT4HyzQq2onFVbjyM', 'd': 'aEoknbH22Fnm9cCdVJRbNpryELRBSX8nGGerzVcYh0o', 'kty': 'OKP', 'kid': 'did:peer:2.Ez6LSqrUDvHgg8WbUH2gRfgGdNNhABreeuCYmBRTjMDe1AmVL.Vz6MkkDqEhfa7BUpaKsHM4Cph7YnjndRZfLJdqMtixA4jUV3r.SeyJpZCI6Im5ldy1pZCIsInQiOiJkbSIsInMiOlt7InVyaSI6ImRpZDpwZWVyOjIuRXo2TFNoODZjWmU4NXA0TExzTmMyOG5BcDlydEx2ZzJ0ZFM3S0E5Y1ljQjlEcG5OWS5WejZNa25hdTZHcVNSMjc5RzFha2o2aW13bVhHcXhMazVzc2tQWmNublQ4M3ltMVdhLlNleUpwWkNJNkltNWxkeTFwWkNJc0luUWlPaUprYlNJc0luTWlPaUpvZEhSd09pOHZjbTl2ZEhOcFpDMXRaV1JwWVhSdmNqbzRNREF3SWl3aVlTSTZXeUprYVdSamIyMXRMM1l5SWwxOSJ9XSwiYSI6WyJkaWRjb21tL3YyIl19#6LSqrUDvHgg8WbUH2gRfgGdNNhABreeuCYmBRTjMDe1AmVL'}\n",
      "Alice's DID for Bob: did:peer:2.Ez6LSqrUDvHgg8WbUH2gRfgGdNNhABreeuCYmBRTjMDe1AmVL.Vz6MkkDqEhfa7BUpaKsHM4Cph7YnjndRZfLJdqMtixA4jUV3r.SeyJpZCI6Im5ldy1pZCIsInQiOiJkbSIsInMiOlt7InVyaSI6ImRpZDpwZWVyOjIuRXo2TFNoODZjWmU4NXA0TExzTmMyOG5BcDlydEx2ZzJ0ZFM3S0E5Y1ljQjlEcG5OWS5WejZNa25hdTZHcVNSMjc5RzFha2o2aW13bVhHcXhMazVzc2tQWmNublQ4M3ltMVdhLlNleUpwWkNJNkltNWxkeTFwWkNJc0luUWlPaUprYlNJc0luTWlPaUpvZEhSd09pOHZjbTl2ZEhOcFpDMXRaV1JwWVhSdmNqbzRNREF3SWl3aVlTSTZXeUprYVdSamIyMXRMM1l5SWwxOSJ9XSwiYSI6WyJkaWRjb21tL3YyIl19\n"
     ]
    }
   ],
   "source": [
    "#alice_did_new = await create_peer_did(1, 1, service_endpoint=mediator_endpoint, service_routing_keys=[mediator_routing_key])\n",
    "alice_did_for_bob = await create_peer_did(1, 1, service_endpoint=[{\"uri\": mediator_routing_key}])\n",
    "\n",
    "print(\"Alice's DID for Bob:\", alice_did_for_bob)"
   ]
  },
  {
   "cell_type": "markdown",
   "metadata": {},
   "source": [
    "Alice create and send the keylist update message"
   ]
  },
  {
   "cell_type": "code",
   "execution_count": 15,
   "metadata": {},
   "outputs": [],
   "source": [
    "alice_keylist_update = Message(\n",
    "    id = \"unique-id-293e9a922efff\",\n",
    "    type = \"https://didcomm.org/coordinate-mediation/2.0/keylist-update\",\n",
    "    body = {\n",
    "        \"updates\":[\n",
    "        {\n",
    "            \"recipient_did\": alice_did_for_bob,\n",
    "            \"action\": \"add\"\n",
    "        }\n",
    "    ]\n",
    "    }\n",
    ")"
   ]
  },
  {
   "cell_type": "code",
   "execution_count": 16,
   "metadata": {},
   "outputs": [],
   "source": [
    "alice_keylist_update_packed_msg = await pack_encrypted(\n",
    "    resolvers_config = ResolversConfig(\n",
    "        secrets_resolver = secrets_resolver,\n",
    "        did_resolver = DIDResolverPeerDID()\n",
    "    ),\n",
    "    message = alice_keylist_update,\n",
    "    frm = alice_did_for_mediator,\n",
    "    to = mediator_did,\n",
    "    sign_frm = None,\n",
    "    pack_config = PackEncryptedConfig(protect_sender_id=False)\n",
    ")"
   ]
  },
  {
   "cell_type": "code",
   "execution_count": 17,
   "metadata": {},
   "outputs": [],
   "source": [
    "headers = {\"Content-Type\": \"application/didcomm-encrypted+json\"}\n",
    "resp = requests.post(mediator_endpoint, headers=headers, data = alice_keylist_update_packed_msg.packed_msg)"
   ]
  },
  {
   "cell_type": "code",
   "execution_count": 18,
   "metadata": {},
   "outputs": [
    {
     "name": "stdout",
     "output_type": "stream",
     "text": [
      "https://didcomm.org/coordinate-mediation/2.0/keylist-update-response\n",
      "{'updated': [{'recipient_did': 'did:peer:2.Ez6LSqrUDvHgg8WbUH2gRfgGdNNhABreeuCYmBRTjMDe1AmVL.Vz6MkkDqEhfa7BUpaKsHM4Cph7YnjndRZfLJdqMtixA4jUV3r.SeyJpZCI6Im5ldy1pZCIsInQiOiJkbSIsInMiOlt7InVyaSI6ImRpZDpwZWVyOjIuRXo2TFNoODZjWmU4NXA0TExzTmMyOG5BcDlydEx2ZzJ0ZFM3S0E5Y1ljQjlEcG5OWS5WejZNa25hdTZHcVNSMjc5RzFha2o2aW13bVhHcXhMazVzc2tQWmNublQ4M3ltMVdhLlNleUpwWkNJNkltNWxkeTFwWkNJc0luUWlPaUprYlNJc0luTWlPaUpvZEhSd09pOHZjbTl2ZEhOcFpDMXRaV1JwWVhSdmNqbzRNREF3SWl3aVlTSTZXeUprYVdSamIyMXRMM1l5SWwxOSJ9XSwiYSI6WyJkaWRjb21tL3YyIl19', 'action': 'add', 'result': 'success'}]}\n"
     ]
    }
   ],
   "source": [
    "mediator_unpack_msg2 = await unpack(\n",
    "    resolvers_config=ResolversConfig(\n",
    "        secrets_resolver=secrets_resolver,\n",
    "        did_resolver=DIDResolverPeerDID()\n",
    "    ),\n",
    "    packed_msg= resp.json()\n",
    ")\n",
    "print(mediator_unpack_msg2.message.type)\n",
    "print(mediator_unpack_msg2.message.body)\n"
   ]
  },
  {
   "cell_type": "markdown",
   "metadata": {},
   "source": [
    "### Alice can now send her DID to Bob."
   ]
  },
  {
   "cell_type": "markdown",
   "metadata": {},
   "source": [
    "### Alice check status of queued messages from the Mediator"
   ]
  },
  {
   "cell_type": "code",
   "execution_count": 19,
   "metadata": {},
   "outputs": [],
   "source": [
    "alice_status_check = Message(\n",
    "    id = \"unique-id-293e9a922efffxxx\",\n",
    "    type = \"https://didcomm.org/messagepickup/3.0/status-request\",\n",
    "    body = {}\n",
    ")"
   ]
  },
  {
   "cell_type": "code",
   "execution_count": 20,
   "metadata": {},
   "outputs": [],
   "source": [
    "alice_status_check_packed_msg = await pack_encrypted(\n",
    "    resolvers_config = ResolversConfig(\n",
    "        secrets_resolver = secrets_resolver,\n",
    "        did_resolver = DIDResolverPeerDID()\n",
    "    ),\n",
    "    message = alice_status_check,\n",
    "    to = mediator_did,\n",
    "    frm = alice_did_for_mediator,\n",
    "    sign_frm = None,\n",
    "    pack_config = PackEncryptedConfig(protect_sender_id=False)\n",
    ")\n",
    "headers = {\"Content-Type\": \"application/didcomm-encrypted+json\"}\n",
    "resp3 = requests.post(mediator_endpoint, headers=headers, data = alice_status_check_packed_msg.packed_msg)"
   ]
  },
  {
   "cell_type": "code",
   "execution_count": 21,
   "metadata": {},
   "outputs": [
    {
     "name": "stdout",
     "output_type": "stream",
     "text": [
      "https://didcomm.org/messagepickup/3.0/status\n",
      "Messages in Mediator queue: 0\n"
     ]
    }
   ],
   "source": [
    "mediator_unpack_status = await unpack(\n",
    "    resolvers_config=ResolversConfig(\n",
    "        secrets_resolver=secrets_resolver,\n",
    "        did_resolver=DIDResolverPeerDID()\n",
    "    ),\n",
    "    packed_msg= resp3.json()\n",
    ")\n",
    "print(mediator_unpack_status.message.type)\n",
    "print(\"Messages in Mediator queue: \" + str(mediator_unpack_status.message.body[\"message_count\"]))"
   ]
  },
  {
   "cell_type": "markdown",
   "metadata": {},
   "source": [
    "### If there are messages, Alice can pickup from the mediator (delivery request)"
   ]
  },
  {
   "cell_type": "code",
   "execution_count": 22,
   "metadata": {},
   "outputs": [],
   "source": [
    "alice_delivery_request = Message(\n",
    "    id = \"unique-id-293e9a922efffxxxff\",\n",
    "    type = \"https://didcomm.org/messagepickup/3.0/delivery-request\",\n",
    "    body = {\"limit\": 1}\n",
    ")"
   ]
  },
  {
   "cell_type": "code",
   "execution_count": 23,
   "metadata": {},
   "outputs": [],
   "source": [
    "alice_delivery_request_packed_msg = await pack_encrypted(\n",
    "    resolvers_config = ResolversConfig(\n",
    "        secrets_resolver = secrets_resolver,\n",
    "        did_resolver = DIDResolverPeerDID()\n",
    "    ),\n",
    "    message = alice_delivery_request,\n",
    "    to = mediator_did,\n",
    "    frm = alice_did_for_mediator,\n",
    "    sign_frm = None,\n",
    "    pack_config = PackEncryptedConfig(protect_sender_id=False)\n",
    ")\n",
    "headers = {\"Content-Type\": \"application/didcomm-encrypted+json\"}\n",
    "resp4 = requests.post(mediator_endpoint, headers=headers, data = alice_delivery_request_packed_msg.packed_msg)"
   ]
  },
  {
   "cell_type": "code",
   "execution_count": 24,
   "metadata": {},
   "outputs": [
    {
     "name": "stdout",
     "output_type": "stream",
     "text": [
      "https://didcomm.org/messagepickup/3.0/status\n",
      "{'recipient_key': None, 'message_count': 0, 'live_delivery': False}\n"
     ]
    }
   ],
   "source": [
    "mediator_delivery = await unpack(\n",
    "    resolvers_config=ResolversConfig(\n",
    "        secrets_resolver=secrets_resolver,\n",
    "        did_resolver=DIDResolverPeerDID()\n",
    "    ),\n",
    "    packed_msg= resp4.json()\n",
    ")\n",
    "print(mediator_delivery.message.type)\n",
    "print(mediator_delivery.message.body)"
   ]
  },
  {
   "cell_type": "code",
   "execution_count": 25,
   "metadata": {},
   "outputs": [
    {
     "ename": "TypeError",
     "evalue": "'NoneType' object is not subscriptable",
     "output_type": "error",
     "traceback": [
      "\u001b[0;31m---------------------------------------------------------------------------\u001b[0m",
      "\u001b[0;31mTypeError\u001b[0m                                 Traceback (most recent call last)",
      "Cell \u001b[0;32mIn [25], line 1\u001b[0m\n\u001b[0;32m----> 1\u001b[0m bob_packed_msg \u001b[38;5;241m=\u001b[39m \u001b[43mmediator_delivery\u001b[49m\u001b[38;5;241;43m.\u001b[39;49m\u001b[43mmessage\u001b[49m\u001b[38;5;241;43m.\u001b[39;49m\u001b[43mattachments\u001b[49m\u001b[43m[\u001b[49m\u001b[38;5;241;43m0\u001b[39;49m\u001b[43m]\u001b[49m\u001b[38;5;241m.\u001b[39mdata\u001b[38;5;241m.\u001b[39mjson\n\u001b[1;32m      2\u001b[0m msg_id \u001b[38;5;241m=\u001b[39m mediator_delivery\u001b[38;5;241m.\u001b[39mmessage\u001b[38;5;241m.\u001b[39mattachments[\u001b[38;5;241m0\u001b[39m]\u001b[38;5;241m.\u001b[39mid\n",
      "\u001b[0;31mTypeError\u001b[0m: 'NoneType' object is not subscriptable"
     ]
    }
   ],
   "source": [
    "bob_packed_msg = mediator_delivery.message.attachments[0].data.json\n",
    "msg_id = mediator_delivery.message.attachments[0].id"
   ]
  },
  {
   "cell_type": "code",
   "execution_count": null,
   "metadata": {},
   "outputs": [],
   "source": [
    "print(bob_packed_msg)"
   ]
  },
  {
   "cell_type": "code",
   "execution_count": null,
   "metadata": {},
   "outputs": [],
   "source": [
    "bob_msg = await unpack(\n",
    "    resolvers_config=ResolversConfig(\n",
    "        secrets_resolver=secrets_resolver,\n",
    "        did_resolver=DIDResolverPeerDID()\n",
    "    ),\n",
    "    packed_msg= bob_packed_msg\n",
    ")"
   ]
  },
  {
   "cell_type": "code",
   "execution_count": null,
   "metadata": {},
   "outputs": [],
   "source": [
    "print(\"Message ID:\", msg_id)\n",
    "print(bob_msg.message.body[\"content\"])"
   ]
  },
  {
   "cell_type": "markdown",
   "metadata": {},
   "source": [
    "### Alice acknowledge so the mediator can delete the message"
   ]
  },
  {
   "cell_type": "code",
   "execution_count": null,
   "metadata": {},
   "outputs": [],
   "source": [
    "alice_ack = Message(\n",
    "    id = \"unique-id-293e9a922efffxxxffsss\",\n",
    "    type = \"https://didcomm.org/messagepickup/3.0/messages-received\",\n",
    "    body = {\"message_id_list\": [msg_id]}\n",
    ")"
   ]
  },
  {
   "cell_type": "code",
   "execution_count": null,
   "metadata": {},
   "outputs": [],
   "source": [
    "alice_ack_packed_msg = await pack_encrypted(\n",
    "    resolvers_config = ResolversConfig(\n",
    "        secrets_resolver = secrets_resolver,\n",
    "        did_resolver = DIDResolverPeerDID()\n",
    "    ),\n",
    "    message = alice_ack,\n",
    "    to = mediator_did,\n",
    "    frm = alice_did_for_mediator,\n",
    "    sign_frm = None,\n",
    "    pack_config = PackEncryptedConfig(protect_sender_id=False)\n",
    ")\n",
    "headers = {\"Content-Type\": \"application/didcomm-encrypted+json\"}\n",
    "resp5 = requests.post(mediator_endpoint, headers=headers, data = alice_ack_packed_msg.packed_msg)"
   ]
  },
  {
   "cell_type": "code",
   "execution_count": null,
   "metadata": {},
   "outputs": [],
   "source": [
    "mediator_ack_status = await unpack(\n",
    "    resolvers_config=ResolversConfig(\n",
    "        secrets_resolver=secrets_resolver,\n",
    "        did_resolver=DIDResolverPeerDID()\n",
    "    ),\n",
    "    packed_msg= resp5.json()\n",
    ")\n",
    "print(mediator_ack_status.message.type)\n",
    "print(mediator_ack_status.message.body)"
   ]
  },
  {
   "cell_type": "code",
   "execution_count": null,
   "metadata": {},
   "outputs": [],
   "source": []
  }
 ],
 "metadata": {
  "kernelspec": {
   "display_name": "Python 3 (ipykernel)",
   "language": "python",
   "name": "python3"
  },
  "language_info": {
   "codemirror_mode": {
    "name": "ipython",
    "version": 3
   },
   "file_extension": ".py",
   "mimetype": "text/x-python",
   "name": "python",
   "nbconvert_exporter": "python",
   "pygments_lexer": "ipython3",
   "version": "3.10.6"
  }
 },
 "nbformat": 4,
 "nbformat_minor": 4
}
