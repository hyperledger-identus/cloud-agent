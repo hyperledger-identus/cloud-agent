{
 "cells": [
  {
   "cell_type": "code",
   "execution_count": 13,
   "metadata": {},
   "outputs": [],
   "source": [
    "import json\n",
    "import base64\n",
    "import qrcode\n",
    "import requests\n",
    "import datetime\n",
    "import urllib.parse\n",
    "import uuid\n",
    "import matplotlib.pyplot as plt\n",
    "from pymongo import MongoClient\n",
    "from typing import Optional, List\n",
    "from didcomm.common.types import DID, VerificationMethodType, VerificationMaterial, VerificationMaterialFormat\n",
    "from didcomm.did_doc.did_doc import DIDDoc, VerificationMethod, DIDCommService\n",
    "from didcomm.did_doc.did_resolver import DIDResolver\n",
    "from didcomm.message import Message, FromPrior\n",
    "from didcomm.secrets.secrets_resolver_demo import SecretsResolverDemo\n",
    "from didcomm.unpack import unpack, UnpackResult\n",
    "from didcomm.common.resolvers import ResolversConfig\n",
    "from didcomm.pack_encrypted import pack_encrypted, PackEncryptedConfig, PackEncryptedResult\n",
    "from peerdid.core.did_doc_types import DIDCommServicePeerDID\n",
    "from didcomm.secrets.secrets_util import generate_x25519_keys_as_jwk_dict, generate_ed25519_keys_as_jwk_dict, jwk_to_secret\n",
    "from peerdid import peer_did\n",
    "from peerdid.did_doc import DIDDocPeerDID\n",
    "from peerdid.types import VerificationMaterialAuthentication, VerificationMethodTypeAuthentication, VerificationMaterialAgreement, VerificationMethodTypeAgreement, VerificationMaterialFormatPeerDID"
   ]
  },
  {
   "cell_type": "markdown",
   "metadata": {},
   "source": [
    "## Helpers"
   ]
  },
  {
   "cell_type": "code",
   "execution_count": 14,
   "metadata": {},
   "outputs": [],
   "source": [
    "secrets_resolver = SecretsResolverDemo()"
   ]
  },
  {
   "cell_type": "code",
   "execution_count": 15,
   "metadata": {},
   "outputs": [],
   "source": [
    "class DIDResolverPeerDID(DIDResolver):\n",
    "    async def resolve(self, did: DID) -> DIDDoc:\n",
    "        did_doc_json = peer_did.resolve_peer_did(did, format = VerificationMaterialFormatPeerDID.JWK)\n",
    "        did_doc = DIDDocPeerDID.from_json(did_doc_json)\n",
    "\n",
    "        return DIDDoc(\n",
    "            did=did_doc.did,\n",
    "            key_agreement_kids = did_doc.agreement_kids,\n",
    "            authentication_kids = did_doc.auth_kids,\n",
    "            verification_methods = [\n",
    "                VerificationMethod(\n",
    "                    id = m.id,\n",
    "                    type = VerificationMethodType.JSON_WEB_KEY_2020,\n",
    "                    controller = m.controller,\n",
    "                    verification_material = VerificationMaterial(\n",
    "                        format = VerificationMaterialFormat.JWK,\n",
    "                        value = json.dumps(m.ver_material.value)\n",
    "                    )\n",
    "                )\n",
    "                for m in did_doc.authentication + did_doc.key_agreement\n",
    "            ],\n",
    "            didcomm_services = [\n",
    "                DIDCommService(\n",
    "                    id = s.id,\n",
    "                    service_endpoint = s.service_endpoint,\n",
    "                    routing_keys = s.routing_keys,\n",
    "                    accept = s.accept\n",
    "                )\n",
    "                for s in did_doc.service\n",
    "                if isinstance(s, DIDCommServicePeerDID)\n",
    "            ] if did_doc.service else []\n",
    "        )"
   ]
  },
  {
   "cell_type": "code",
   "execution_count": 16,
   "metadata": {},
   "outputs": [],
   "source": [
    "async def create_peer_did(self,\n",
    "                        auth_keys_count: int = 1,\n",
    "                        agreement_keys_count: int = 1,\n",
    "                        service_endpoint: Optional[str] = None,\n",
    "                        service_routing_keys: Optional[List[str]] = None\n",
    "                        ) -> str:\n",
    "        # 1. generate keys in JWK format\n",
    "        agreem_keys = [generate_x25519_keys_as_jwk_dict() for _ in range(agreement_keys_count)]\n",
    "        auth_keys = [generate_ed25519_keys_as_jwk_dict() for _ in range(auth_keys_count)]\n",
    "\n",
    "        # 2. prepare the keys for peer DID lib\n",
    "        agreem_keys_peer_did = [\n",
    "            VerificationMaterialAgreement(\n",
    "                type=VerificationMethodTypeAgreement.JSON_WEB_KEY_2020,\n",
    "                format=VerificationMaterialFormatPeerDID.JWK,\n",
    "                value=k[1],\n",
    "            )\n",
    "            for k in agreem_keys\n",
    "        ]\n",
    "        auth_keys_peer_did = [\n",
    "            VerificationMaterialAuthentication(\n",
    "                type=VerificationMethodTypeAuthentication.JSON_WEB_KEY_2020,\n",
    "                format=VerificationMaterialFormatPeerDID.JWK,\n",
    "                value=k[1],\n",
    "            )\n",
    "            for k in auth_keys\n",
    "        ]\n",
    "\n",
    "        # 3. generate service\n",
    "        service = None\n",
    "        if service_endpoint:\n",
    "            service = json.dumps(\n",
    "                DIDCommServicePeerDID(\n",
    "                    id=\"new-id\",\n",
    "                    service_endpoint=service_endpoint, routing_keys=service_routing_keys,\n",
    "                    accept=[\"didcomm/v2\"]\n",
    "                ).to_dict()\n",
    "            )\n",
    "\n",
    "        # 4. call peer DID lib\n",
    "        # if we have just one key (auth), then use numalg0 algorithm\n",
    "        # otherwise use numalg2 algorithm\n",
    "        if len(auth_keys_peer_did) == 1 and not agreem_keys_peer_did and not service:\n",
    "            did = peer_did.create_peer_did_numalgo_0(auth_keys_peer_did[0])\n",
    "        else:\n",
    "            did = peer_did.create_peer_did_numalgo_2(\n",
    "                encryption_keys=agreem_keys_peer_did,\n",
    "                signing_keys=auth_keys_peer_did,\n",
    "                service=service,\n",
    "            )\n",
    "\n",
    "        # 5. set KIDs as in DID DOC for secrets and store the secret in the secrets resolver\n",
    "        did_doc = DIDDocPeerDID.from_json(peer_did.resolve_peer_did(did))\n",
    "        for auth_key, kid in zip(auth_keys, did_doc.auth_kids):\n",
    "            private_key = auth_key[0]\n",
    "            private_key[\"kid\"] = kid\n",
    "            await secrets_resolver.add_key(jwk_to_secret(private_key))\n",
    "\n",
    "        for agreem_key, kid in zip(agreem_keys, did_doc.agreement_kids):\n",
    "            private_key = agreem_key[0]\n",
    "            private_key[\"kid\"] = kid\n",
    "            await secrets_resolver.add_key(jwk_to_secret(private_key))\n",
    "\n",
    "        return did\n"
   ]
  },
  {
   "cell_type": "markdown",
   "metadata": {},
   "source": [
    "### Receiving the OOB message"
   ]
  },
  {
   "cell_type": "code",
   "execution_count": 23,
   "metadata": {},
   "outputs": [],
   "source": [
    "oob_url = requests.get(\"http://rootsid-mediator:8000/oob_url\").text\n",
    "#oob_url = requests.get(\"https://mediator.rootsid.cloud/oob_url\").text\n",
    "#oob_url = requests.get(\"http://127.0.0.1:8000/oob_url\").text\n",
    "received_msg_encoded = oob_url.split(\"=\")[1]\n",
    "received_msg_decoded = json.loads(str(base64.urlsafe_b64decode(received_msg_encoded + \"==\"), \"utf-8\"))\n",
    "\n"
   ]
  },
  {
   "cell_type": "markdown",
   "metadata": {},
   "source": [
    "## Preparing message"
   ]
  },
  {
   "cell_type": "code",
   "execution_count": 24,
   "metadata": {},
   "outputs": [],
   "source": [
    "bob_did = await create_peer_did(1,1, service_endpoint=\"https://www.example.com/bob\")"
   ]
  },
  {
   "cell_type": "code",
   "execution_count": 25,
   "metadata": {},
   "outputs": [],
   "source": [
    "# bob_response_message = Message(\n",
    "#     body = { \"response_requested\": True },\n",
    "#     custom_headers = [{\"return_route\": \"all\"}],\n",
    "#     id = str(uuid.uuid4()),\n",
    "#     #pthid = received_msg_decoded[\"id\"],\n",
    "#     type = \"https://didcomm.org/trust-ping/2.0/ping\",\n",
    "#     frm = bob_did,\n",
    "#     to = [received_msg_decoded[\"from\"]]\n",
    "# )\n",
    "# bob_response_message = Message(\n",
    "#     custom_headers = [{\n",
    "#         \"return_route\": \"all\",\n",
    "#         \"created_time\": int(datetime.datetime.now().timestamp())            \n",
    "#                       }],\n",
    "#     id = str(uuid.uuid4()),\n",
    "#     #pthid = received_msg_decoded[\"id\"],\n",
    "#     type = \"https://didcomm.org/basicmessage/2.0/message\",\n",
    "#     frm = bob_did,\n",
    "#     to = [received_msg_decoded[\"from\"]],\n",
    "#     body = {\"content\": \"Who won the soccer world cup in 1986?\"}\n",
    "# )\n",
    "# bob_response_message = Message(\n",
    "#     custom_headers = [{\"return_route\": \"all\"}],\n",
    "#     id = str(uuid.uuid4()),\n",
    "#     #pthid = received_msg_decoded[\"id\"],\n",
    "#     type = \"https://didcomm.org/coordinate-mediation/2.0/keylist-query\",\n",
    "#     body = {}\n",
    "# )\n",
    "# bob_response_message = Message(\n",
    "#     custom_headers = [{\"return_route\": \"all\"}],\n",
    "#     id = str(uuid.uuid4()),\n",
    "#     #pthid = received_msg_decoded[\"id\"],\n",
    "#     type = \"https://didcomm.org/coordinate-mediation/2.0/keylist-update\",\n",
    "#     body = {\n",
    "#         \"updates\": [\n",
    "#             {\n",
    "#             \"recipient_key\": \"did:key:z6MkpTHR8VNsBxYAAWHut2Geadd9jSwuBV8xRoAnwWsdvktH2\",\n",
    "#             \"action\": \"remove\"\n",
    "#             }\n",
    "#         ]\n",
    "            \n",
    "#     }\n",
    "# )\n",
    "# bob_response_message = Message(\n",
    "#     custom_headers = [{\n",
    "#         \"return_route\": \"all\"}],\n",
    "#     id = str(uuid.uuid4()),\n",
    "#     #pthid = received_msg_decoded[\"id\"],\n",
    "#     type = \"https://didcomm.org/discover-features/2.0/queries\",\n",
    "#     frm = bob_did,\n",
    "#     to = [received_msg_decoded[\"from\"]],\n",
    "#     body = {\n",
    "#         \"queries\": [\n",
    "#             { \"feature-type\": \"protocol\", \"match\": \"https://didcomm.org/basicmessage/2.*\" }\n",
    "#         ]\n",
    "#     }\n",
    "# )\n",
    "bob_response_message = Message(\n",
    "    custom_headers = [{\n",
    "        \"return_route\": \"all\"}],\n",
    "    id = str(uuid.uuid4()),\n",
    "    #pthid = received_msg_decoded[\"id\"],\n",
    "    type = \"https://didcomm.org/shorten-url/1.0/request-shortened-url\",\n",
    "    frm = bob_did,\n",
    "    to = [received_msg_decoded[\"from\"]],\n",
    "    body = {\n",
    "            \"url\": \"https://my.example.com/superlongurl\",\n",
    "            \"requested_validity_seconds\": 86400,\n",
    "            \"goal_code\": \"shorten.oobv2\",\n",
    "#             \"short_url_slug\": \"algo\"\n",
    "    }\n",
    ")\n",
    "# bob_response_message = Message(\n",
    "#     custom_headers = [{\n",
    "#         \"return_route\": \"all\"}],\n",
    "#     id = str(uuid.uuid4()),\n",
    "#     #pthid = received_msg_decoded[\"id\"],\n",
    "#     type = \"https://didcomm.org/shorten-url/1.0/invalidate-shortened-url\",\n",
    "#     frm = bob_did,\n",
    "#     to = [received_msg_decoded[\"from\"]],\n",
    "#     body = {\n",
    "#             \"shortened_url\": \"http://127.0.0.1:8000/qr?_oobid=eaf4166322d04ddba2829f0807b6a7cf\",\n",
    "#     }\n",
    "# )\n"
   ]
  },
  {
   "cell_type": "code",
   "execution_count": 26,
   "metadata": {},
   "outputs": [],
   "source": [
    "bob_packed_msg = await pack_encrypted(\n",
    "    resolvers_config = ResolversConfig(\n",
    "        secrets_resolver = secrets_resolver,\n",
    "        did_resolver = DIDResolverPeerDID()\n",
    "    ),\n",
    "    message = bob_response_message,\n",
    "    frm = bob_did,\n",
    "    to = received_msg_decoded[\"from\"],\n",
    "    sign_frm = None,\n",
    "    pack_config = PackEncryptedConfig(protect_sender_id=False)\n",
    ")"
   ]
  },
  {
   "cell_type": "markdown",
   "metadata": {},
   "source": [
    "### Sending the message to Mediator"
   ]
  },
  {
   "cell_type": "code",
   "execution_count": 27,
   "metadata": {},
   "outputs": [],
   "source": [
    "alice_did_doc = json.loads(peer_did.resolve_peer_did(received_msg_decoded[\"from\"]))\n",
    "alice_endpoint = alice_did_doc[\"service\"][0][\"serviceEndpoint\"]\n",
    "headers = {\"Content-Type\": \"application/didcomm-encrypted+json\"}\n",
    "resp = requests.post(alice_endpoint, headers=headers, data = bob_packed_msg.packed_msg)\n"
   ]
  },
  {
   "cell_type": "markdown",
   "metadata": {},
   "source": [
    "## Decoding response\n"
   ]
  },
  {
   "cell_type": "code",
   "execution_count": 28,
   "metadata": {},
   "outputs": [],
   "source": [
    "bob_unpack_msg = await unpack(\n",
    "    resolvers_config=ResolversConfig(\n",
    "        secrets_resolver=secrets_resolver,\n",
    "        did_resolver=DIDResolverPeerDID()\n",
    "    ),\n",
    "    packed_msg= resp.json()\n",
    ")"
   ]
  },
  {
   "cell_type": "code",
   "execution_count": 29,
   "metadata": {},
   "outputs": [
    {
     "name": "stdout",
     "output_type": "stream",
     "text": [
      "UnpackResult(message=Message(id='f7c12a75-692d-4ebf-8acb-8fc48643ccdd', type='https://didcomm.org/shorten-url/1.0/shortened-url', body={'shortened_url': 'http://rootsid-mediator:8000/qr?_oobid=d74c9499dbb641fdb1a68127db13a104', 'expires_time': 1663691324}, frm=None, to=None, created_time=None, expires_time=None, from_prior=FromPrior(iss='did:peer:2.Ez6LSfuYoeE8ArorRnVEHG6g1TUb9Y66KfG35WXrgDnrfXkdV.Vz6MkvZVZwK9RTknM8D7BJ3D7iZau3AHYJWC6kUKqkodKhmWX.SeyJpZCI6Im5ldy1pZCIsInQiOiJkbSIsInMiOiJodHRwOi8vcm9vdHNpZC1tZWRpYXRvcjo4MDAwIiwiYSI6WyJkaWRjb21tL3YyIl19', sub='did:peer:2.Ez6LSbqVNNhbMNXdtL7ez2niXipSj62mDLVeU8MEFTVsPvKNZ.Vz6MkrjCuG265wE87Czr91xx6eReNbcRs4WAxjwKsCiZksYrh.SeyJpZCI6Im5ldy1pZCIsInQiOiJkbSIsInMiOiJodHRwOi8vcm9vdHNpZC1tZWRpYXRvcjo4MDAwIiwiYSI6WyJkaWRjb21tL3YyIl19', aud=None, exp=None, nbf=None, iat=None, jti=None), please_ack=None, ack=None, thid='1f76f358-c442-43ec-a681-5d062b2f1e87', pthid=None, attachments=None, custom_headers=None), metadata=Metadata(encrypted=True, authenticated=True, non_repudiation=False, anonymous_sender=False, re_wrapped_in_forward=False, encrypted_from='did:peer:2.Ez6LSbqVNNhbMNXdtL7ez2niXipSj62mDLVeU8MEFTVsPvKNZ.Vz6MkrjCuG265wE87Czr91xx6eReNbcRs4WAxjwKsCiZksYrh.SeyJpZCI6Im5ldy1pZCIsInQiOiJkbSIsInMiOiJodHRwOi8vcm9vdHNpZC1tZWRpYXRvcjo4MDAwIiwiYSI6WyJkaWRjb21tL3YyIl19#6LSbqVNNhbMNXdtL7ez2niXipSj62mDLVeU8MEFTVsPvKNZ', encrypted_to=['did:peer:2.Ez6LSoa8yc91UCZ7joALgHiWDCnCHjywHVVtzPFvXuUTkiaaz.Vz6MkhcYw1on97mu1Z38pkndRMUMQnGzijYuv1H3ymxxNG6az.SeyJpZCI6Im5ldy1pZCIsInQiOiJkbSIsInMiOiJodHRwczovL3d3dy5leGFtcGxlLmNvbS9ib2IiLCJhIjpbImRpZGNvbW0vdjIiXX0#6LSoa8yc91UCZ7joALgHiWDCnCHjywHVVtzPFvXuUTkiaaz'], sign_from=None, from_prior_issuer_kid='did:peer:2.Ez6LSfuYoeE8ArorRnVEHG6g1TUb9Y66KfG35WXrgDnrfXkdV.Vz6MkvZVZwK9RTknM8D7BJ3D7iZau3AHYJWC6kUKqkodKhmWX.SeyJpZCI6Im5ldy1pZCIsInQiOiJkbSIsInMiOiJodHRwOi8vcm9vdHNpZC1tZWRpYXRvcjo4MDAwIiwiYSI6WyJkaWRjb21tL3YyIl19#6MkvZVZwK9RTknM8D7BJ3D7iZau3AHYJWC6kUKqkodKhmWX', enc_alg_auth=<AuthCryptAlg.A256CBC_HS512_ECDH_1PU_A256KW: Algs(alg='ECDH-1PU+A256KW', enc='A256CBC-HS512')>, enc_alg_anon=None, sign_alg=None, signed_message=None, from_prior_jwt='eyJhbGciOiJFZERTQSIsInR5cCI6IkpXVCIsImtpZCI6ImRpZDpwZWVyOjIuRXo2TFNmdVlvZUU4QXJvclJuVkVIRzZnMVRVYjlZNjZLZkczNVdYcmdEbnJmWGtkVi5WejZNa3ZaVlp3SzlSVGtuTThEN0JKM0Q3aVphdTNBSFlKV0M2a1VLcWtvZEtobVdYLlNleUpwWkNJNkltNWxkeTFwWkNJc0luUWlPaUprYlNJc0luTWlPaUpvZEhSd09pOHZjbTl2ZEhOcFpDMXRaV1JwWVhSdmNqbzRNREF3SWl3aVlTSTZXeUprYVdSamIyMXRMM1l5SWwxOSM2TWt2WlZad0s5UlRrbk04RDdCSjNEN2laYXUzQUhZSldDNmtVS3Frb2RLaG1XWCJ9.eyJpc3MiOiJkaWQ6cGVlcjoyLkV6NkxTZnVZb2VFOEFyb3JSblZFSEc2ZzFUVWI5WTY2S2ZHMzVXWHJnRG5yZlhrZFYuVno2TWt2WlZad0s5UlRrbk04RDdCSjNEN2laYXUzQUhZSldDNmtVS3Frb2RLaG1XWC5TZXlKcFpDSTZJbTVsZHkxcFpDSXNJblFpT2lKa2JTSXNJbk1pT2lKb2RIUndPaTh2Y205dmRITnBaQzF0WldScFlYUnZjam80TURBd0lpd2lZU0k2V3lKa2FXUmpiMjF0TDNZeUlsMTkiLCJzdWIiOiJkaWQ6cGVlcjoyLkV6NkxTYnFWTk5oYk1OWGR0TDdlejJuaVhpcFNqNjJtRExWZVU4TUVGVFZzUHZLTlouVno2TWtyakN1RzI2NXdFODdDenI5MXh4NmVSZU5iY1JzNFdBeGp3S3NDaVprc1lyaC5TZXlKcFpDSTZJbTVsZHkxcFpDSXNJblFpT2lKa2JTSXNJbk1pT2lKb2RIUndPaTh2Y205dmRITnBaQzF0WldScFlYUnZjam80TURBd0lpd2lZU0k2V3lKa2FXUmpiMjF0TDNZeUlsMTkifQ.dJc_Vb81O17RxR5jnaoZUF3q6L06ilvEZij_8fA8jImjnxYaX-d_I6KF6uZq6eP0xc79MTLUZg05E2P4-UlhAg'))\n"
     ]
    }
   ],
   "source": [
    "print(bob_unpack_msg)"
   ]
  },
  {
   "cell_type": "code",
   "execution_count": 30,
   "metadata": {},
   "outputs": [
    {
     "name": "stdout",
     "output_type": "stream",
     "text": [
      "Message(id='f7c12a75-692d-4ebf-8acb-8fc48643ccdd', type='https://didcomm.org/shorten-url/1.0/shortened-url', body={'shortened_url': 'http://rootsid-mediator:8000/qr?_oobid=d74c9499dbb641fdb1a68127db13a104', 'expires_time': 1663691324}, frm=None, to=None, created_time=None, expires_time=None, from_prior=FromPrior(iss='did:peer:2.Ez6LSfuYoeE8ArorRnVEHG6g1TUb9Y66KfG35WXrgDnrfXkdV.Vz6MkvZVZwK9RTknM8D7BJ3D7iZau3AHYJWC6kUKqkodKhmWX.SeyJpZCI6Im5ldy1pZCIsInQiOiJkbSIsInMiOiJodHRwOi8vcm9vdHNpZC1tZWRpYXRvcjo4MDAwIiwiYSI6WyJkaWRjb21tL3YyIl19', sub='did:peer:2.Ez6LSbqVNNhbMNXdtL7ez2niXipSj62mDLVeU8MEFTVsPvKNZ.Vz6MkrjCuG265wE87Czr91xx6eReNbcRs4WAxjwKsCiZksYrh.SeyJpZCI6Im5ldy1pZCIsInQiOiJkbSIsInMiOiJodHRwOi8vcm9vdHNpZC1tZWRpYXRvcjo4MDAwIiwiYSI6WyJkaWRjb21tL3YyIl19', aud=None, exp=None, nbf=None, iat=None, jti=None), please_ack=None, ack=None, thid='1f76f358-c442-43ec-a681-5d062b2f1e87', pthid=None, attachments=None, custom_headers=None)\n"
     ]
    }
   ],
   "source": [
    "print(bob_unpack_msg.message)"
   ]
  },
  {
   "cell_type": "code",
   "execution_count": null,
   "metadata": {},
   "outputs": [],
   "source": []
  }
 ],
 "metadata": {
  "kernelspec": {
   "display_name": "Python 3 (ipykernel)",
   "language": "python",
   "name": "python3"
  },
  "language_info": {
   "codemirror_mode": {
    "name": "ipython",
    "version": 3
   },
   "file_extension": ".py",
   "mimetype": "text/x-python",
   "name": "python",
   "nbconvert_exporter": "python",
   "pygments_lexer": "ipython3",
   "version": "3.10.6"
  }
 },
 "nbformat": 4,
 "nbformat_minor": 4
}
